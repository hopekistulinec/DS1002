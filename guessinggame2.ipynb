{
  "nbformat": 4,
  "nbformat_minor": 0,
  "metadata": {
    "colab": {
      "provenance": [],
      "authorship_tag": "ABX9TyOadGzkxTqrbegDDIaBdvx4",
      "include_colab_link": true
    },
    "kernelspec": {
      "name": "python3",
      "display_name": "Python 3"
    },
    "language_info": {
      "name": "python"
    }
  },
  "cells": [
    {
      "cell_type": "markdown",
      "metadata": {
        "id": "view-in-github",
        "colab_type": "text"
      },
      "source": [
        "<a href=\"https://colab.research.google.com/github/hopekistulinec/DS1002/blob/main/guessinggame2.ipynb\" target=\"_parent\"><img src=\"https://colab.research.google.com/assets/colab-badge.svg\" alt=\"Open In Colab\"/></a>"
      ]
    },
    {
      "cell_type": "markdown",
      "source": [
        "Hope Kistulinec(3.5 hours)"
      ],
      "metadata": {
        "id": "5sZ6s-_Z5a02"
      }
    },
    {
      "cell_type": "code",
      "source": [
        "import numpy as np\n",
        "import random\n",
        "\n",
        "def guessinggame():\n",
        "  print(\"The computer is picking a number between 0 and 100\")\n",
        "\n",
        "  guessestaken = 0\n",
        "\n",
        "  n = random.randint(0,100)\n",
        "\n",
        "  while True:\n",
        "    try:\n",
        "      guess = int(input(\"Guess an integer between 0 and 100\"))\n",
        "      guessestaken += 1\n",
        "      if guess < n:\n",
        "        print(\"too low\")\n",
        "      elif guess > n:\n",
        "        print(\"too high\")\n",
        "      else:\n",
        "        print(f\"You got the number, and it took you {guessestaken} guesses\")\n",
        "    except ValueError:\n",
        "      print(\"Invalid entry. Please enter an integer between 0-100\")\n",
        "\n",
        "\n",
        "guessinggame()\n",
        "\n",
        "\n"
      ],
      "metadata": {
        "colab": {
          "base_uri": "https://localhost:8080/"
        },
        "id": "bRZA8PVXpVQO",
        "outputId": "3e5da968-6320-497e-d863-0c9055888669"
      },
      "execution_count": null,
      "outputs": [
        {
          "output_type": "stream",
          "name": "stdout",
          "text": [
            "The computer is picking a number between 0 and 100\n",
            "Guess an integer between 0 and 10050\n",
            "too low\n",
            "Guess an integer between 0 and 10060\n",
            "too low\n",
            "Guess an integer between 0 and 10070\n",
            "too low\n",
            "Guess an integer between 0 and 10080\n",
            "too high\n",
            "Guess an integer between 0 and 10075\n",
            "too low\n",
            "Guess an integer between 0 and 10077\n",
            "too high\n",
            "Guess an integer between 0 and 10078.9\n",
            "Invalid entry. Please enter an integer between 0-100\n",
            "Guess an integer between 0 and 10079\n",
            "too high\n",
            "Guess an integer between 0 and 10078\n",
            "too high\n",
            "Guess an integer between 0 and 10077\n",
            "too high\n",
            "Guess an integer between 0 and 10076\n",
            "You got the number, and it took you 10 guesses\n"
          ]
        }
      ]
    }
  ]
}