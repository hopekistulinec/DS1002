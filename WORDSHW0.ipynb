{
  "nbformat": 4,
  "nbformat_minor": 0,
  "metadata": {
    "colab": {
      "provenance": [],
      "authorship_tag": "ABX9TyNPhjNKiolQL+oehTiM/KBp",
      "include_colab_link": true
    },
    "kernelspec": {
      "name": "python3",
      "display_name": "Python 3"
    },
    "language_info": {
      "name": "python"
    }
  },
  "cells": [
    {
      "cell_type": "markdown",
      "metadata": {
        "id": "view-in-github",
        "colab_type": "text"
      },
      "source": [
        "<a href=\"https://colab.research.google.com/github/hopekistulinec/DS1002/blob/main/WORDSHW0.ipynb\" target=\"_parent\"><img src=\"https://colab.research.google.com/assets/colab-badge.svg\" alt=\"Open In Colab\"/></a>"
      ]
    },
    {
      "cell_type": "code",
      "execution_count": 61,
      "metadata": {
        "colab": {
          "base_uri": "https://localhost:8080/"
        },
        "id": "cQFqidcAsRUG",
        "outputId": "ab53bc93-97d2-4437-cd85-fd04ca90c1af"
      },
      "outputs": [
        {
          "output_type": "stream",
          "name": "stdout",
          "text": [
            "Collecting english_words\n",
            "  Downloading english-words-2.0.1.tar.gz (8.2 MB)\n",
            "\u001b[2K     \u001b[90m━━━━━━━━━━━━━━━━━━━━━━━━━━━━━━━━━━━━━━━━\u001b[0m \u001b[32m8.2/8.2 MB\u001b[0m \u001b[31m20.2 MB/s\u001b[0m eta \u001b[36m0:00:00\u001b[0m\n",
            "\u001b[?25h  Installing build dependencies ... \u001b[?25l\u001b[?25hdone\n",
            "  Getting requirements to build wheel ... \u001b[?25l\u001b[?25hdone\n",
            "  Preparing metadata (pyproject.toml) ... \u001b[?25l\u001b[?25hdone\n",
            "Building wheels for collected packages: english_words\n",
            "  Building wheel for english_words (pyproject.toml) ... \u001b[?25l\u001b[?25hdone\n",
            "  Created wheel for english_words: filename=english_words-2.0.1-py3-none-any.whl size=8196238 sha256=44bee068e8c5033380b7b45dbd3f2f3614ee2501c78445d895590a1ffae0e067\n",
            "  Stored in directory: /root/.cache/pip/wheels/f0/e6/d9/16a123647999fe535f03a36e7af23eef203736d84c7ca25b0b\n",
            "Successfully built english_words\n",
            "Installing collected packages: english_words\n",
            "Successfully installed english_words-2.0.1\n"
          ]
        }
      ],
      "source": [
        "!pip install english_words\n",
        "from english_words import get_english_words_set\n",
        "words = get_english_words_set(['web2'], lower=True)"
      ]
    },
    {
      "cell_type": "markdown",
      "source": [
        "Problem 1"
      ],
      "metadata": {
        "id": "WjbUQeNmvo3-"
      }
    },
    {
      "cell_type": "code",
      "source": [
        "type(words)\n",
        "print(type(words))\n",
        "\n",
        "wordlist = list(words)\n",
        "print(type(wordlist))\n",
        "len(wordlist)"
      ],
      "metadata": {
        "colab": {
          "base_uri": "https://localhost:8080/"
        },
        "id": "5xoH0iodthTv",
        "outputId": "2c67b1e3-5250-431b-a98e-6ad83d4e9b24"
      },
      "execution_count": 62,
      "outputs": [
        {
          "output_type": "stream",
          "name": "stdout",
          "text": [
            "<class 'set'>\n",
            "<class 'list'>\n"
          ]
        },
        {
          "output_type": "execute_result",
          "data": {
            "text/plain": [
              "234450"
            ]
          },
          "metadata": {},
          "execution_count": 62
        }
      ]
    },
    {
      "cell_type": "markdown",
      "source": [
        "Problem 2"
      ],
      "metadata": {
        "id": "z9lN8Y5ivwM6"
      }
    },
    {
      "cell_type": "code",
      "source": [
        "print(wordlist[0:10])"
      ],
      "metadata": {
        "colab": {
          "base_uri": "https://localhost:8080/"
        },
        "id": "XIcuQU-uvvoy",
        "outputId": "0307eae2-1075-49a6-aa15-8ede66f96129"
      },
      "execution_count": 63,
      "outputs": [
        {
          "output_type": "stream",
          "name": "stdout",
          "text": [
            "['samurai', 'ammocoetidae', 'oblatory', 'untight', 'buckwashing', 'cocuswood', 'ecaudate', 'inanimation', 'dilatatory', 'battleground']\n"
          ]
        }
      ]
    },
    {
      "cell_type": "markdown",
      "source": [
        "I notice that the words are not in alphabetical order."
      ],
      "metadata": {
        "id": "q6cTRFTuwH47"
      }
    },
    {
      "cell_type": "markdown",
      "source": [
        "Problem 3"
      ],
      "metadata": {
        "id": "5YeLeLSFwK3f"
      }
    },
    {
      "cell_type": "code",
      "source": [
        "alpha_list = sorted(wordlist)\n",
        "print(alpha_list[0:10])"
      ],
      "metadata": {
        "colab": {
          "base_uri": "https://localhost:8080/"
        },
        "id": "XhfwhoSQwMRy",
        "outputId": "34d39614-a6d0-4140-98d3-b1f470d332df"
      },
      "execution_count": 64,
      "outputs": [
        {
          "output_type": "stream",
          "name": "stdout",
          "text": [
            "['a', 'aa', 'aal', 'aalii', 'aam', 'aani', 'aardvark', 'aardwolf', 'aaron', 'aaronic']\n"
          ]
        }
      ]
    },
    {
      "cell_type": "markdown",
      "source": [
        "Problem 4"
      ],
      "metadata": {
        "id": "f5tKGJoJzy2L"
      }
    },
    {
      "cell_type": "code",
      "source": [
        "a_start = 0\n",
        "\n",
        "for words in alpha_list:\n",
        "  if words[0]=='a':\n",
        "    a_start += 1\n",
        "\n",
        "print(a_start)"
      ],
      "metadata": {
        "colab": {
          "base_uri": "https://localhost:8080/"
        },
        "id": "AOwkl8BCz0x8",
        "outputId": "a31dca09-e7ef-44ff-90cf-b0450bd97e83"
      },
      "execution_count": 65,
      "outputs": [
        {
          "output_type": "stream",
          "name": "stdout",
          "text": [
            "16982\n"
          ]
        }
      ]
    },
    {
      "cell_type": "markdown",
      "source": [
        "Problem 5"
      ],
      "metadata": {
        "id": "heQ9aXTHwubh"
      }
    },
    {
      "cell_type": "code",
      "source": [
        "letter_q = \"q\"\n",
        "word_count = len([element for element in alpha_list if letter_q in element])\n",
        "print(word_count)"
      ],
      "metadata": {
        "colab": {
          "base_uri": "https://localhost:8080/"
        },
        "id": "PtFl4NVqwtmI",
        "outputId": "8e99c8ea-b13c-4219-a32c-6fe1774c17a5"
      },
      "execution_count": 66,
      "outputs": [
        {
          "output_type": "stream",
          "name": "stdout",
          "text": [
            "3624\n"
          ]
        }
      ]
    },
    {
      "cell_type": "code",
      "source": [
        "letter_e = \"e\"\n",
        "fraction_e = len([element for element in alpha_list if letter_e not in element])\n",
        "fraction = fraction_e/234450\n",
        "print(fraction)"
      ],
      "metadata": {
        "colab": {
          "base_uri": "https://localhost:8080/"
        },
        "id": "dC6l41RE0fVD",
        "outputId": "25b70345-484b-4ad0-c8e8-1ac3dc02afd9"
      },
      "execution_count": 67,
      "outputs": [
        {
          "output_type": "stream",
          "name": "stdout",
          "text": [
            "0.32828321603753463\n"
          ]
        }
      ]
    },
    {
      "cell_type": "markdown",
      "source": [
        "Problem 6"
      ],
      "metadata": {
        "id": "ufnVhLJi193-"
      }
    },
    {
      "cell_type": "code",
      "source": [
        "import numpy\n",
        "array = numpy.array(alpha_list)\n",
        "alphabet = [chr(i) for i in range(ord('a'),ord('z')+1)]\n",
        "print(array)"
      ],
      "metadata": {
        "colab": {
          "base_uri": "https://localhost:8080/"
        },
        "id": "JOAeAulE1CjL",
        "outputId": "d0da3ff3-78a8-42e2-85b1-73a337efe4c9"
      },
      "execution_count": 68,
      "outputs": [
        {
          "output_type": "stream",
          "name": "stdout",
          "text": [
            "['a' 'aa' 'aal' ... 'zythum' 'zyzomys' 'zyzzogeton']\n"
          ]
        }
      ]
    },
    {
      "cell_type": "markdown",
      "source": [
        "This code orders the word by length and alphabet"
      ],
      "metadata": {
        "id": "-JyzQeMK1ifQ"
      }
    },
    {
      "cell_type": "markdown",
      "source": [
        "Problem 7"
      ],
      "metadata": {
        "id": "a4Ids2v72G4j"
      }
    },
    {
      "cell_type": "code",
      "source": [
        "import matplotlib.pyplot as plt\n",
        "\n",
        "letter_count = {letter: sum(word.startswith(letter) for word in wordlist) for letter in alphabet}\n",
        "plt.bar(letter_count.keys(), letter_count.values())\n",
        "plt.xlabel('Letters in the Alphabet')\n",
        "plt.ylabel('# of Words')\n",
        "plt.title('Number of Words Starting with Each Letter')\n"
      ],
      "metadata": {
        "id": "7fYSE7At1_PL",
        "colab": {
          "base_uri": "https://localhost:8080/",
          "height": 490
        },
        "outputId": "be60631b-5fdd-4591-d4bb-36a3bced7347"
      },
      "execution_count": 70,
      "outputs": [
        {
          "output_type": "execute_result",
          "data": {
            "text/plain": [
              "Text(0.5, 1.0, 'Number of Words Starting with Each Letter')"
            ]
          },
          "metadata": {},
          "execution_count": 70
        },
        {
          "output_type": "display_data",
          "data": {
            "text/plain": [
              "<Figure size 640x480 with 1 Axes>"
            ],
            "image/png": "[encoded data removed]"
          },
          "metadata": {}
        }
      ]
    },
    {
      "cell_type": "markdown",
      "source": [
        "Problem 8"
      ],
      "metadata": {
        "id": "hmHfWlhE3Nft"
      }
    },
    {
      "cell_type": "code",
      "source": [
        "def Sorting(alpha_list):\n",
        "  sorted_list = sorted(alpha_list, key=len)\n",
        "  return sorted_list\n",
        "\n",
        "sorted_list = Sorting(alpha_list)\n",
        "print(sorted_list[234444:234450])\n",
        "\n"
      ],
      "metadata": {
        "colab": {
          "base_uri": "https://localhost:8080/"
        },
        "id": "rFLdof_734Ko",
        "outputId": "c0924d97-3554-4e10-fa76-aefbcd7ed70f"
      },
      "execution_count": 71,
      "outputs": [
        {
          "output_type": "stream",
          "name": "stdout",
          "text": [
            "['formaldehydesulphoxylate', 'pathologicopsychological', 'scientificophilosophical', 'tetraiodophenolphthalein', 'thyroparathyroidectomize', 'antidisestablishmentarianism']\n"
          ]
        }
      ]
    },
    {
      "cell_type": "markdown",
      "source": [
        "Problem 9"
      ],
      "metadata": {
        "id": "PJxi2U4h3OeP"
      }
    },
    {
      "cell_type": "code",
      "source": [
        "import numpy as np\n",
        "\n",
        "sorted_list = sorted('wordlist', key=len)\n",
        "word_lengths = [len(word) for word in alpha_list]\n",
        "plt.hist(word_lengths, bins=numpy.arange(min(word_lengths), max(word_lengths) + 1), align='left')\n",
        "plt.xlabel('Word Length')\n",
        "plt.ylabel('Frequency')\n",
        "plt.title('Histagram of Word Lengths')\n",
        "\n",
        "plt.show()"
      ],
      "metadata": {
        "colab": {
          "base_uri": "https://localhost:8080/",
          "height": 472
        },
        "id": "Me94Txcx7W-N",
        "outputId": "e165bc0a-8015-4a4f-aba7-7d357406a61a"
      },
      "execution_count": 73,
      "outputs": [
        {
          "output_type": "display_data",
          "data": {
            "text/plain": [
              "<Figure size 640x480 with 1 Axes>"
            ],
            "image/png": "[encoded data removed]"
          },
          "metadata": {}
        }
      ]
    },
    {
      "cell_type": "markdown",
      "source": [
        "8"
      ],
      "metadata": {
        "id": "MuQ3uT7TpDv_"
      }
    },
    {
      "cell_type": "markdown",
      "source": [
        "Problem 10"
      ],
      "metadata": {
        "id": "uy8ccwRiTV6V"
      }
    },
    {
      "cell_type": "code",
      "source": [
        "check_pairs = [('v', 'a'), ('w', 'l')]\n",
        "count_pair = {pair: 0 for pair in check_pairs}\n",
        "for word in alpha_list:\n",
        "    for pair in check_pairs:\n",
        "        if pair[0] in word and pair[1] in word:\n",
        "            count_pair[pair] += 1\n",
        "\n",
        "for pair, count in count_pair.items():\n",
        "    print(f\"Number of words containing '{pair[0]}' and '{pair[1]}': {count}\")\n"
      ],
      "metadata": {
        "colab": {
          "base_uri": "https://localhost:8080/"
        },
        "id": "qp2CfY3WTW8E",
        "outputId": "7e19e6be-9412-4827-b76b-95f5843ac7a2"
      },
      "execution_count": 75,
      "outputs": [
        {
          "output_type": "stream",
          "name": "stdout",
          "text": [
            "Number of words containing 'v' and 'a': 11347\n",
            "Number of words containing 'w' and 'l': 4822\n"
          ]
        }
      ]
    },
    {
      "cell_type": "markdown",
      "source": [
        "0 seconds"
      ],
      "metadata": {
        "id": "Mmc-U03pWD-w"
      }
    }
  ]
}