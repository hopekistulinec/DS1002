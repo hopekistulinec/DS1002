{
  "nbformat": 4,
  "nbformat_minor": 0,
  "metadata": {
    "colab": {
      "provenance": [],
      "include_colab_link": true
    },
    "kernelspec": {
      "name": "python3",
      "display_name": "Python 3"
    },
    "language_info": {
      "name": "python"
    }
  },
  "cells": [
    {
      "cell_type": "markdown",
      "metadata": {
        "id": "view-in-github",
        "colab_type": "text"
      },
      "source": [
        "<a href=\"https://colab.research.google.com/github/hopekistulinec/DS1002/blob/main/Due_4_Feb_at_10_pm.ipynb\" target=\"_parent\"><img src=\"https://colab.research.google.com/assets/colab-badge.svg\" alt=\"Open In Colab\"/></a>"
      ]
    },
    {
      "cell_type": "markdown",
      "source": [
        "## DS 1002 homework due Sunday Feb 4 at 10 pm\n"
      ],
      "metadata": {
        "id": "zAw2bmn-TjFJ"
      }
    },
    {
      "cell_type": "markdown",
      "source": [
        "\n",
        "The notebook from Wednesday's class is in my GitHib repository, including the little script we wrote at the end to find mangos in a list of fruit.  The file is called `MorePythonBasics.ipynb`.\n",
        "\n",
        "(By the way I wondered if the correct spelling was \"mangos\" or \"mangoes\" and I found [this](https://www.mango.org/blog-mangos-or-mangoes/)!  Who knew?  There's a National Mango Board!  And they're prepared to adjudicate this and other difficult mango-related questions.)\n",
        "\n",
        "\n"
      ],
      "metadata": {
        "id": "Cmf4xleCSWCu"
      }
    },
    {
      "cell_type": "markdown",
      "source": [
        "### Problem 1:  finding fruit\n",
        "\n",
        "Adapt the function we wrote in class so that it takes two arguments,\n",
        "\n",
        "`fruit` and `hungryfor` ,\n",
        "\n",
        "and then searches through the list `fruit` for the item `hungryfor`.  The line that calls the function should look like\n",
        "\n",
        "`find_fruit(food, hungryfor)`\n",
        "\n",
        "Make it print out the results in the same way, so for example if `food` is what we entered in class and `hungryfor = \"tomatoes\"` then the output will be\n",
        "\n",
        "```python\n",
        "No tomatoes here.\n",
        "No tomatoes here.\n",
        "No tomatoes here.\n",
        "No tomatoes here.\n",
        "No tomatoes here.\n",
        "```\n",
        "Test your code by changing the values of `food` and `hungryfor` and make sure the output is what you expect.  Show a few outputs, each in its own code chunk.\n",
        "\n"
      ],
      "metadata": {
        "id": "rJLyGryAThhp"
      }
    },
    {
      "cell_type": "code",
      "source": [
        "food = [\"blackberries\", \"strawberries\", \"cherries\", \"bananas\", \"blueberries\"]\n",
        "hungryfor = [\"bananas\"]\n",
        "\n",
        "def find_fruit(fruit, hungryfor):\n",
        "  for fkjh in fruit:\n",
        "    if fkjh == \"bananas\" :\n",
        "      print(\"Hooray!  I found the bananas.\")\n",
        "    else:\n",
        "      print(\"I couldn't find the bananas.\")\n",
        "\n",
        "find_fruit(food, hungryfor)\n",
        "\n"
      ],
      "metadata": {
        "colab": {
          "base_uri": "https://localhost:8080/"
        },
        "id": "aWbgbjYg_m-g",
        "outputId": "e7ebce65-2b65-488f-a6ca-4b964ae7eb10"
      },
      "execution_count": 82,
      "outputs": [
        {
          "output_type": "stream",
          "name": "stdout",
          "text": [
            "I couldn't find the bananas.\n",
            "I couldn't find the bananas.\n",
            "I couldn't find the bananas.\n",
            "Hooray!  I found the bananas.\n",
            "I couldn't find the bananas.\n"
          ]
        }
      ]
    },
    {
      "cell_type": "code",
      "source": [
        "hungryfor = [\"blueberries\"]\n",
        "\n",
        "def find_fruit(fruit, hungryfor):\n",
        "  for fkjh in fruit:\n",
        "    if fkjh == \"blueberries\" :\n",
        "      print(\"Hooray!  I found the blueberries.\")\n",
        "    else:\n",
        "      print(\"No blueberries here.\")\n",
        "\n",
        "find_fruit(food, hungryfor)"
      ],
      "metadata": {
        "id": "bYdqsfrh6KnE",
        "colab": {
          "base_uri": "https://localhost:8080/"
        },
        "outputId": "de8d945e-cc8d-4b90-c8fb-b7cd92e11289"
      },
      "execution_count": 23,
      "outputs": [
        {
          "output_type": "stream",
          "name": "stdout",
          "text": [
            "No blueberries here.\n",
            "No blueberries here.\n",
            "No blueberries here.\n",
            "No blueberries here.\n",
            "Hooray!  I found the blueberries.\n"
          ]
        }
      ]
    },
    {
      "cell_type": "code",
      "source": [
        "hungryfor = [\"cherries\"]\n",
        "\n",
        "def find_fruit(fruit, hungryfor):\n",
        "  for fkjh in fruit:\n",
        "    if fkjh == \"cherries\" :\n",
        "      print(\"Hooray!  I found the cherries.\")\n",
        "    else:\n",
        "      print(\"No cherries here.\")\n",
        "\n",
        "find_fruit(food, hungryfor)"
      ],
      "metadata": {
        "id": "aSb-k__UQwr5",
        "outputId": "df518d06-885c-4aa3-ea42-14864eb9342a",
        "colab": {
          "base_uri": "https://localhost:8080/"
        }
      },
      "execution_count": 83,
      "outputs": [
        {
          "output_type": "stream",
          "name": "stdout",
          "text": [
            "No cherries here.\n",
            "No cherries here.\n",
            "Hooray!  I found the cherries.\n",
            "No cherries here.\n",
            "No cherries here.\n"
          ]
        }
      ]
    },
    {
      "cell_type": "markdown",
      "source": [
        "#### Notes\n",
        "1. Once you have run a code chunk in the notebook, it will remember that it has been run.  You don't have to call the function in the same code chunk where the function is defined.  In other words, to call the function with new inputs you can simply make a new code chunk, change the inputs, and call the function.  *You don't have to retype the definition of the function each time.*\n",
        "\n",
        "2. Make sure you clean things up when you're done, so you don't include old code that doesn't work or old incorrect outputs.\n"
      ],
      "metadata": {
        "id": "AMp-a1ym6W7w"
      }
    },
    {
      "cell_type": "markdown",
      "source": [
        "### Problem 2:  the `input()` function\n",
        "\n",
        "(a) Programming gets way more fun when you start to interact with your own programs!  Here is a function that lets you start doing that.  Run the following code and see what happens:\n"
      ],
      "metadata": {
        "id": "R-s9cZ6GYWNX"
      }
    },
    {
      "cell_type": "code",
      "source": [
        "input()\n",
        "print(\"Hello there!\")"
      ],
      "metadata": {
        "id": "IEK8O2qNYkXn",
        "colab": {
          "base_uri": "https://localhost:8080/"
        },
        "outputId": "7c948e2e-a357-403a-a176-d0d048796c9d"
      },
      "execution_count": 52,
      "outputs": [
        {
          "output_type": "stream",
          "name": "stdout",
          "text": [
            "hi\n",
            "Hello there!\n"
          ]
        }
      ]
    },
    {
      "cell_type": "markdown",
      "source": [
        "(b) As you just saw, the code waits for you to enter something before it continues.  If you want to actually use the input in the code, you should assign its value to a variable:"
      ],
      "metadata": {
        "id": "sktZu8wWzFF6"
      }
    },
    {
      "cell_type": "code",
      "source": [
        "message = input()\n",
        "print(\"My name is bob!\")"
      ],
      "metadata": {
        "id": "fMmBkzbyz9Ty",
        "colab": {
          "base_uri": "https://localhost:8080/"
        },
        "outputId": "2dfc65ee-8f6b-4e6b-9d68-bdebbdcc5533"
      },
      "execution_count": 55,
      "outputs": [
        {
          "output_type": "stream",
          "name": "stdout",
          "text": [
            "hi\n",
            "My name is bob!\n"
          ]
        }
      ]
    },
    {
      "cell_type": "markdown",
      "source": [
        "(c) Now you can start interacting.  Write some code that asks the user what they are hungry for (using a print statement), and then takes the user input, and then runs the `find_fruit` function from the previous code block using the user input as the `hungryfor` variable.  Test your code, and then include a few different outputs that demonstrate that the code works."
      ],
      "metadata": {
        "id": "ny41z-dQYmjQ"
      }
    },
    {
      "cell_type": "code",
      "source": [
        "print(\"What are you hungry for?\")\n",
        "message = input()\n",
        "print(find_fruit(food, hungryfor))"
      ],
      "metadata": {
        "colab": {
          "base_uri": "https://localhost:8080/"
        },
        "id": "6sMDTQhWLLby",
        "outputId": "6dc2b8bb-76f0-49e1-c31b-badb2ceb3c43"
      },
      "execution_count": 67,
      "outputs": [
        {
          "output_type": "stream",
          "name": "stdout",
          "text": [
            "What are you hungry for?\n",
            "hungryfor\n",
            "No blueberries here.\n",
            "No blueberries here.\n",
            "No blueberries here.\n",
            "No blueberries here.\n",
            "Hooray!  I found the blueberries.\n",
            "None\n"
          ]
        }
      ]
    },
    {
      "cell_type": "code",
      "source": [
        "food = [\"blackberries\", \"strawberries\", \"cherries\", \"bananas\", \"blueberries\"]\n",
        "hungryfor = [\"cherries\"]\n",
        "\n",
        "def find_fruit(fruit, hungryfor):\n",
        "  for fkjh in fruit:\n",
        "    if fkjh == \"cherries\" :\n",
        "      print(\"Hooray!  I found the cherries.\")\n",
        "    else:\n",
        "      print(\"No cherries here.\")\n",
        "\n",
        "\n",
        "print(\"What are you hungry for?\")\n",
        "message = input()\n",
        "print(find_fruit(food, hungryfor))"
      ],
      "metadata": {
        "colab": {
          "base_uri": "https://localhost:8080/"
        },
        "id": "xJYCXw1oMsSg",
        "outputId": "523f481f-aef1-4dd3-c625-f8fb42048860"
      },
      "execution_count": 71,
      "outputs": [
        {
          "output_type": "stream",
          "name": "stdout",
          "text": [
            "What are you hungry for?\n",
            "hungryfor\n",
            "No cherries here.\n",
            "No cherries here.\n",
            "Hooray!  I found the cherries.\n",
            "No cherries here.\n",
            "No cherries here.\n",
            "None\n"
          ]
        }
      ]
    },
    {
      "cell_type": "code",
      "source": [
        "food = [\"blackberries\", \"strawberries\", \"cherries\", \"bananas\", \"blueberries\"]\n",
        "hungryfor = [\"strawberries\"]\n",
        "\n",
        "def find_fruit(fruit, hungryfor):\n",
        "  for fkjh in fruit:\n",
        "    if fkjh == \"strawberries\" :\n",
        "      print(\"Hooray!  I found the strawberries.\")\n",
        "    else:\n",
        "      print(\"No strawberries here.\")\n",
        "\n",
        "\n",
        "print(\"What are you hungry for?\")\n",
        "message = input()\n",
        "print(find_fruit(food, hungryfor))"
      ],
      "metadata": {
        "colab": {
          "base_uri": "https://localhost:8080/"
        },
        "id": "macTjb_gNhKK",
        "outputId": "2e5b4c8c-4433-4329-9a13-c05cfc40e9bc"
      },
      "execution_count": 72,
      "outputs": [
        {
          "output_type": "stream",
          "name": "stdout",
          "text": [
            "What are you hungry for?\n",
            "hungryfor\n",
            "No strawberries here.\n",
            "Hooray!  I found the strawberries.\n",
            "No strawberries here.\n",
            "No strawberries here.\n",
            "No strawberries here.\n",
            "None\n"
          ]
        }
      ]
    },
    {
      "cell_type": "markdown",
      "source": [
        "### Problem 3:  ratings  \n",
        "Write a piece of code which prompts a user with the question \"What is your rating? (1-10)\" and then asks for user input.  Let's say the input is 3.  Once the input is received, print out a message that says.\n",
        "\n",
        "\"Your rating is *** .\"\n",
        "\n",
        "Obviously, your program should print the number of stars corresponding to the input!  If the input is 5, it should print\n",
        "\n",
        "\"Your rating is ***** .\"\n",
        "\n",
        "Show at least two outputs of your code."
      ],
      "metadata": {
        "id": "5CWOlHBz0xoZ"
      }
    },
    {
      "cell_type": "code",
      "source": [
        "print(\"What is your rating? (1-10)\")\n",
        "rating = int(input())\n",
        "\n",
        "stars = '*' * rating\n",
        "print(f\"Your rating is {stars}.\")\n",
        ""
      ],
      "metadata": {
        "id": "MCWnTAUW2Gin",
        "colab": {
          "base_uri": "https://localhost:8080/"
        },
        "outputId": "ccaf9017-d3ce-44aa-df0b-d771c64e1c33"
      },
      "execution_count": 85,
      "outputs": [
        {
          "output_type": "stream",
          "name": "stdout",
          "text": [
            "What is your rating? (1-10)\n",
            "5\n",
            "Your rating is *****.\n"
          ]
        }
      ]
    },
    {
      "cell_type": "code",
      "source": [
        "print(\"What is your rating? (1-10)\")\n",
        "rating = int(input())\n",
        "\n",
        "stars = '*' * rating\n",
        "print(f\"Your rating is {stars}.\")\n",
        ""
      ],
      "metadata": {
        "id": "7dzeFzQnSEl-",
        "outputId": "52e522fc-25b4-471d-a301-8151d9de7d11",
        "colab": {
          "base_uri": "https://localhost:8080/"
        }
      },
      "execution_count": 86,
      "outputs": [
        {
          "output_type": "stream",
          "name": "stdout",
          "text": [
            "What is your rating? (1-10)\n",
            "8\n",
            "Your rating is ********.\n"
          ]
        }
      ]
    },
    {
      "cell_type": "code",
      "source": [
        "print(\"What is your rating? (1-10)\")\n",
        "rating = int(input())\n",
        "\n",
        "if rating < 1 or rating > 10:\n",
        "  print(\"This number doesn't count.\")\n",
        "else:\n",
        "    stars = '*' * rating\n",
        "    print(f\"Your rating is {stars}.\")"
      ],
      "metadata": {
        "colab": {
          "base_uri": "https://localhost:8080/"
        },
        "id": "LQ965aV8MU8r",
        "outputId": "8e08b8f7-1be8-45ad-85cd-f109ac7db0cc"
      },
      "execution_count": 64,
      "outputs": [
        {
          "output_type": "stream",
          "name": "stdout",
          "text": [
            "What is your rating? (1-10)\n",
            "3\n",
            "Your rating is ***.\n"
          ]
        }
      ]
    },
    {
      "cell_type": "code",
      "source": [
        "print(\"What is your rating? (1-10)\")\n",
        "rating = int(input())\n",
        "\n",
        "if rating < 1 or rating > 10:\n",
        "  print(\"This number doesn't count.\")\n",
        "else:\n",
        "    stars = '*' * rating\n",
        "    print(f\"Your rating is {stars}.\")"
      ],
      "metadata": {
        "colab": {
          "base_uri": "https://localhost:8080/"
        },
        "id": "5tzFKbELMXcl",
        "outputId": "64d62132-6532-4c1d-9fac-5b2f34460a03"
      },
      "execution_count": 87,
      "outputs": [
        {
          "output_type": "stream",
          "name": "stdout",
          "text": [
            "What is your rating? (1-10)\n",
            "12\n",
            "This number doesn't count.\n"
          ]
        }
      ]
    },
    {
      "cell_type": "code",
      "source": [
        "# you might have to copy the code to show another output\n",
        "# (unless you figure out another way to do it)"
      ],
      "metadata": {
        "id": "nxm67oCk8Ukn"
      },
      "execution_count": null,
      "outputs": []
    },
    {
      "cell_type": "markdown",
      "source": [
        "You do not have to do this as part of the assignment, but one thing to think about with any code that has **interactivity** is that you want to make it **robust**.  This means you should imagine someone is *trying* to break your code, and you should try to make it as indestructible as possible.\n",
        "\n",
        "What will happen to your code if someone enters 3.5?  Or -12?  Or \"nonsense\"?  Test it and see.  Think about how you might guard against errors.\n"
      ],
      "metadata": {
        "id": "VRfc9puT2yac"
      }
    }
  ]
}